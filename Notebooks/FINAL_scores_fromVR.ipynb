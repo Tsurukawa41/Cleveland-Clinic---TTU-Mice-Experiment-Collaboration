{
 "cells": [
  {
   "attachments": {},
   "cell_type": "markdown",
   "metadata": {},
   "source": [
    "# Notebook for testing gene pairs in Van Rooij, MAYO and GSE datasets"
   ]
  },
  {
   "cell_type": "code",
   "execution_count": 75,
   "metadata": {},
   "outputs": [],
   "source": [
    "import os\n",
    "import matplotlib.pyplot as plt\n",
    "import numpy as np\n",
    "import pandas as pd\n",
    "import seaborn as sns\n",
    "import umap\n",
    "from skrebate import ReliefF\n",
    "from mlxtend.feature_selection import SequentialFeatureSelector as SFS\n",
    "\n",
    "from sklearn.model_selection import cross_val_score\n",
    "from sklearn.svm import SVC\n",
    "from sklearn.discriminant_analysis import LinearDiscriminantAnalysis\n",
    "from sklearn.preprocessing import LabelEncoder\n",
    "from tqdm import tqdm\n",
    "from itertools import combinations\n",
    "from matplotlib_venn import venn3\n",
    "\n",
    "sns.set_theme(style='white', font_scale=1.8)\n",
    "\n",
    "plt.rcParams['figure.figsize'] = (5, 5)\n",
    "plt.rcParams['figure.dpi'] = 300\n",
    "plt.rcParams['font.family'] = 'Times New Roman'\n",
    "plt.rcParams['font.size'] = 12\n",
    "plt.rcParams['figure.facecolor'] = 'white'\n",
    "plt.rcParams['figure.autolayout'] = True"
   ]
  },
  {
   "attachments": {},
   "cell_type": "markdown",
   "metadata": {},
   "source": [
    "## Testing performance of genes in other datasets"
   ]
  },
  {
   "cell_type": "code",
   "execution_count": 76,
   "metadata": {},
   "outputs": [],
   "source": [
    "N_reliefF = 500"
   ]
  },
  {
   "cell_type": "code",
   "execution_count": 77,
   "metadata": {},
   "outputs": [],
   "source": [
    "genes_VR = pd.read_csv('../Output/genes_VR.csv', header=None)[0].values\n",
    "df_normalized_VR = pd.read_csv('../Output/df_normalized_VR.csv', index_col=0)\n",
    "labels_VR = pd.read_csv('../Output/labels_VR.csv', header=None)[0].values\n",
    "df_relief_VR = pd.read_csv('../Output/df_relief_'+str(N_reliefF)+'_VR.csv', index_col = 0)\n",
    "genes_relief_VR = pd.read_csv('../Output/genes_'+str(N_reliefF)+'_VR.csv', header=None)[0].values"
   ]
  },
  {
   "cell_type": "code",
   "execution_count": 78,
   "metadata": {},
   "outputs": [],
   "source": [
    "genes_MAYO = pd.read_csv('../Output/genes_MAYO.csv', header=None)[0].values\n",
    "df_normalized_MAYO = pd.read_csv('../Output/df_normalized_MAYO.csv', index_col=0)\n",
    "labels_MAYO = pd.read_csv('../Output/labels_MAYO.csv', header=None)[0].values\n",
    "df_relief_MAYO = pd.read_csv('../Output/df_relief_'+str(N_reliefF)+'_MAYO.csv', index_col = 0)\n",
    "genes_relief_MAYO = pd.read_csv('../Output/genes_'+str(N_reliefF)+'_MAYO.csv', header=None)[0].values"
   ]
  },
  {
   "cell_type": "code",
   "execution_count": 79,
   "metadata": {},
   "outputs": [],
   "source": [
    "genes_GSE = pd.read_csv('../Output/genes_GSE.csv', header=None)[0].values\n",
    "df_normalized_GSE = pd.read_csv('../Output/df_normalized_GSE.csv', index_col=0)\n",
    "labels_GSE = pd.read_csv('../Output/labels_GSE.csv', header=None)[0].values\n",
    "df_relief_GSE = pd.read_csv('../Output/df_relief_'+str(N_reliefF)+'_GSE.csv', index_col = 0)\n",
    "genes_relief_GSE = pd.read_csv('../Output/genes_'+str(N_reliefF)+'_GSE.csv', header=None)[0].values"
   ]
  },
  {
   "cell_type": "code",
   "execution_count": 80,
   "metadata": {},
   "outputs": [],
   "source": [
    "genepairs_relief_VR = pd.DataFrame(combinations(genes_relief_VR, 2), columns=['Gene 1','Gene 2'])"
   ]
  },
  {
   "cell_type": "code",
   "execution_count": 81,
   "metadata": {},
   "outputs": [
    {
     "data": {
      "text/html": [
       "<div>\n",
       "<style scoped>\n",
       "    .dataframe tbody tr th:only-of-type {\n",
       "        vertical-align: middle;\n",
       "    }\n",
       "\n",
       "    .dataframe tbody tr th {\n",
       "        vertical-align: top;\n",
       "    }\n",
       "\n",
       "    .dataframe thead th {\n",
       "        text-align: right;\n",
       "    }\n",
       "</style>\n",
       "<table border=\"1\" class=\"dataframe\">\n",
       "  <thead>\n",
       "    <tr style=\"text-align: right;\">\n",
       "      <th></th>\n",
       "      <th>Gene 1</th>\n",
       "      <th>Gene 2</th>\n",
       "    </tr>\n",
       "  </thead>\n",
       "  <tbody>\n",
       "    <tr>\n",
       "      <th>0</th>\n",
       "      <td>RBP1</td>\n",
       "      <td>TRPM1</td>\n",
       "    </tr>\n",
       "    <tr>\n",
       "      <th>1</th>\n",
       "      <td>RBP1</td>\n",
       "      <td>BTBD17</td>\n",
       "    </tr>\n",
       "    <tr>\n",
       "      <th>2</th>\n",
       "      <td>RBP1</td>\n",
       "      <td>DDOST</td>\n",
       "    </tr>\n",
       "    <tr>\n",
       "      <th>3</th>\n",
       "      <td>RBP1</td>\n",
       "      <td>C1orf61</td>\n",
       "    </tr>\n",
       "    <tr>\n",
       "      <th>4</th>\n",
       "      <td>RBP1</td>\n",
       "      <td>WNT7B</td>\n",
       "    </tr>\n",
       "    <tr>\n",
       "      <th>...</th>\n",
       "      <td>...</td>\n",
       "      <td>...</td>\n",
       "    </tr>\n",
       "    <tr>\n",
       "      <th>124745</th>\n",
       "      <td>SPRYD3</td>\n",
       "      <td>MRPL24</td>\n",
       "    </tr>\n",
       "    <tr>\n",
       "      <th>124746</th>\n",
       "      <td>SPRYD3</td>\n",
       "      <td>NME1</td>\n",
       "    </tr>\n",
       "    <tr>\n",
       "      <th>124747</th>\n",
       "      <td>ME1</td>\n",
       "      <td>MRPL24</td>\n",
       "    </tr>\n",
       "    <tr>\n",
       "      <th>124748</th>\n",
       "      <td>ME1</td>\n",
       "      <td>NME1</td>\n",
       "    </tr>\n",
       "    <tr>\n",
       "      <th>124749</th>\n",
       "      <td>MRPL24</td>\n",
       "      <td>NME1</td>\n",
       "    </tr>\n",
       "  </tbody>\n",
       "</table>\n",
       "<p>124750 rows × 2 columns</p>\n",
       "</div>"
      ],
      "text/plain": [
       "        Gene 1   Gene 2\n",
       "0         RBP1    TRPM1\n",
       "1         RBP1   BTBD17\n",
       "2         RBP1    DDOST\n",
       "3         RBP1  C1orf61\n",
       "4         RBP1    WNT7B\n",
       "...        ...      ...\n",
       "124745  SPRYD3   MRPL24\n",
       "124746  SPRYD3     NME1\n",
       "124747     ME1   MRPL24\n",
       "124748     ME1     NME1\n",
       "124749  MRPL24     NME1\n",
       "\n",
       "[124750 rows x 2 columns]"
      ]
     },
     "execution_count": 81,
     "metadata": {},
     "output_type": "execute_result"
    }
   ],
   "source": [
    "genepairs_relief_VR"
   ]
  },
  {
   "cell_type": "code",
   "execution_count": 90,
   "metadata": {},
   "outputs": [
    {
     "data": {
      "text/plain": [
       "array([['RBP1', 'TRPM1'],\n",
       "       ['RBP1', 'BTBD17'],\n",
       "       ['RBP1', 'DDOST'],\n",
       "       ...,\n",
       "       ['ME1', 'MRPL24'],\n",
       "       ['ME1', 'NME1'],\n",
       "       ['MRPL24', 'NME1']], dtype=object)"
      ]
     },
     "execution_count": 90,
     "metadata": {},
     "output_type": "execute_result"
    }
   ],
   "source": [
    "genepairs_relief_VR.values"
   ]
  },
  {
   "cell_type": "code",
   "execution_count": 82,
   "metadata": {},
   "outputs": [
    {
     "name": "stderr",
     "output_type": "stream",
     "text": [
      "  0%|          | 0/124750 [00:00<?, ?it/s]"
     ]
    },
    {
     "name": "stderr",
     "output_type": "stream",
     "text": [
      "100%|██████████| 124750/124750 [21:05<00:00, 98.59it/s] \n"
     ]
    }
   ],
   "source": [
    "# Performance of VR gene pairs in VR dataset\n",
    "scores_cv_VR_to_VR = []\n",
    "scores_training_VR_to_VR = []\n",
    "for pair in tqdm(genepairs_relief_VR.values.tolist()):\n",
    "    if set(pair).issubset(genes_VR):\n",
    "        df_to_train = df_normalized_VR[pair]\n",
    "\n",
    "        clf = SVC(kernel='linear', C=100)\n",
    "        clf.fit(df_to_train.values, labels_VR.ravel())\n",
    "\n",
    "        cv_score = cross_val_score(clf, df_to_train.values, labels_VR.ravel(), cv=4)\n",
    "\n",
    "        scores_cv_VR_to_VR.append(cv_score.mean())\n",
    "        scores_training_VR_to_VR.append(clf.score(df_to_train.values, labels_VR.ravel()))\n",
    "    else:\n",
    "        scores_cv_VR_to_VR.append(np.NAN)\n",
    "        scores_training_VR_to_VR.append(np.NAN)"
   ]
  },
  {
   "cell_type": "code",
   "execution_count": 83,
   "metadata": {},
   "outputs": [],
   "source": [
    "scores_VR_to_VR = pd.DataFrame(list(zip(genepairs_relief_VR['Gene 1'].values, genepairs_relief_VR['Gene 2'].values, scores_cv_VR_to_VR, scores_training_VR_to_VR)), columns=['Gene 1','Gene 2','cv_VR','train_VR'])\n",
    "\n",
    "# Save scores to a csv file\n",
    "scores_VR_to_VR.to_csv('../Output/scores_VR_to_VR_'+str(N_reliefF)+'.csv', index=False)"
   ]
  },
  {
   "cell_type": "code",
   "execution_count": 84,
   "metadata": {},
   "outputs": [
    {
     "name": "stderr",
     "output_type": "stream",
     "text": [
      "100%|██████████| 124750/124750 [30:45<00:00, 67.59it/s] \n"
     ]
    }
   ],
   "source": [
    "# Performance of VR gene pairs in MAYO dataset\n",
    "scores_cv_VR_to_MAYO = []\n",
    "scores_training_VR_to_MAYO = []\n",
    "for pair in tqdm(genepairs_relief_VR.values.tolist()):\n",
    "    if set(pair).issubset(genes_MAYO):\n",
    "        df_to_train = df_normalized_MAYO[pair]\n",
    "\n",
    "        clf = SVC(kernel='linear', C=100)\n",
    "        clf.fit(df_to_train.values, labels_MAYO.ravel())\n",
    "\n",
    "        cv_score = cross_val_score(clf, df_to_train.values, labels_MAYO.ravel(), cv=5)\n",
    "\n",
    "        scores_cv_VR_to_MAYO.append(cv_score.mean())\n",
    "        scores_training_VR_to_MAYO.append(clf.score(df_to_train.values, labels_MAYO.ravel()))\n",
    "    else:\n",
    "        scores_cv_VR_to_MAYO.append(np.NAN)\n",
    "        scores_training_VR_to_MAYO.append(np.NAN)"
   ]
  },
  {
   "cell_type": "code",
   "execution_count": 85,
   "metadata": {},
   "outputs": [],
   "source": [
    "scores_VR_to_MAYO = pd.DataFrame(list(zip(genepairs_relief_VR['Gene 1'].values, genepairs_relief_VR['Gene 2'].values, scores_cv_VR_to_MAYO, scores_training_VR_to_MAYO)), columns=['Gene 1','Gene 2','cv_MAYO','train_MAYO'])\n",
    "\n",
    "# Save scores to a csv file\n",
    "scores_VR_to_MAYO.to_csv('../Output/scores_VR_to_MAYO_'+str(N_reliefF)+'.csv', index=False)"
   ]
  },
  {
   "cell_type": "code",
   "execution_count": 86,
   "metadata": {},
   "outputs": [
    {
     "name": "stderr",
     "output_type": "stream",
     "text": [
      "100%|██████████| 124750/124750 [29:17<00:00, 70.98it/s] \n"
     ]
    }
   ],
   "source": [
    "# Performance of VR gene pairs in GSE dataset\n",
    "scores_cv_VR_to_GSE = []\n",
    "scores_training_VR_to_GSE = []\n",
    "for pair in tqdm(genepairs_relief_VR.values.tolist()):\n",
    "    if set(pair).issubset(genes_GSE):\n",
    "        df_to_train = df_normalized_GSE[pair]\n",
    "\n",
    "        clf = SVC(kernel='linear', C=100)\n",
    "        clf.fit(df_to_train.values, labels_GSE.ravel())\n",
    "\n",
    "        cv_score = cross_val_score(clf, df_to_train.values, labels_GSE.ravel(), cv=5)\n",
    "\n",
    "        scores_cv_VR_to_GSE.append(cv_score.mean())\n",
    "        scores_training_VR_to_GSE.append(clf.score(df_to_train.values, labels_GSE.ravel()))\n",
    "    else:\n",
    "        scores_cv_VR_to_GSE.append(np.NAN)\n",
    "        scores_training_VR_to_GSE.append(np.NAN)"
   ]
  },
  {
   "cell_type": "code",
   "execution_count": 87,
   "metadata": {},
   "outputs": [],
   "source": [
    "scores_VR_to_GSE = pd.DataFrame(list(zip(genepairs_relief_VR['Gene 1'].values, genepairs_relief_VR['Gene 2'].values, scores_cv_VR_to_GSE, scores_training_VR_to_GSE)), columns=['Gene 1','Gene 2','cv_GSE','train_GSE'])\n",
    "\n",
    "# Save scores to a csv file\n",
    "scores_VR_to_GSE.to_csv('../Output/scores_VR_to_GSE_'+str(N_reliefF)+'.csv', index=False)"
   ]
  },
  {
   "cell_type": "code",
   "execution_count": 88,
   "metadata": {},
   "outputs": [],
   "source": [
    "# sumVR = []\n",
    "# sumMAYO = []\n",
    "# sumGSE = []\n",
    "# # find out where each gene from genes_relief shows up in genes_combination and average the scores\n",
    "# for gene in genes_relief:\n",
    "#     # find where it shows up in genes_combination\n",
    "#     gene_truth = np.logical_or( genes_combinations['Gene 1'].apply(lambda x: True if gene in x else False), genes_combinations['Gene 2'].apply(lambda x: True if gene in x else False) )\n",
    "#     sumVR.append(scores[gene_truth].loc[:,'VR'].mean())\n",
    "#     sumMAYO.append(scores[gene_truth].loc[:,'MAYO'].mean())\n",
    "#     sumGSE.append(scores[gene_truth].loc[:,'GSE'].mean())\n"
   ]
  },
  {
   "cell_type": "code",
   "execution_count": 89,
   "metadata": {},
   "outputs": [],
   "source": [
    "# d = {'sum of VR': sumVR, 'sum of MAYO': sumMAYO, 'sum of GSE': sumGSE}\n",
    "# scores_by_gene = pd.DataFrame(d, index=genes_relief)\n",
    "# scores_by_gene"
   ]
  }
 ],
 "metadata": {
  "kernelspec": {
   "display_name": "base",
   "language": "python",
   "name": "python3"
  },
  "language_info": {
   "codemirror_mode": {
    "name": "ipython",
    "version": 3
   },
   "file_extension": ".py",
   "mimetype": "text/x-python",
   "name": "python",
   "nbconvert_exporter": "python",
   "pygments_lexer": "ipython3",
   "version": "3.11.4"
  },
  "orig_nbformat": 4
 },
 "nbformat": 4,
 "nbformat_minor": 2
}
