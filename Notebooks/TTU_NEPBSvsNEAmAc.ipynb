{
 "cells": [
  {
   "cell_type": "code",
   "execution_count": 18,
   "metadata": {},
   "outputs": [],
   "source": [
    "import os\n",
    "import matplotlib.pyplot as plt\n",
    "import numpy as np\n",
    "import pandas as pd\n",
    "import seaborn as sns\n",
    "\n",
    "from tqdm import tqdm\n",
    "from sklearn import svm\n",
    "from sklearn.svm import SVC\n",
    "from skrebate import ReliefF\n",
    "from scipy.stats import zscore\n",
    "from sklearn.model_selection import cross_val_score\n",
    "from sklearn.metrics import accuracy_score\n",
    "from itertools import combinations\n",
    "\n",
    "sns.set_theme(style='white', font_scale=1.8)\n",
    "\n",
    "plt.rcParams['figure.figsize'] = (5, 5)\n",
    "plt.rcParams['figure.dpi'] = 300\n",
    "plt.rcParams['font.family'] = 'Times New Roman'\n",
    "plt.rcParams['font.size'] = 12\n",
    "plt.rcParams['figure.facecolor'] = 'white'\n",
    "plt.rcParams['figure.autolayout'] = True"
   ]
  },
  {
   "cell_type": "markdown",
   "metadata": {},
   "source": [
    "# Dataframe collection, parsing and preprocessing\n",
    "The dataframes (df_rna, df_prottissue, df_protserum, etc.) are created to store the numeric data from each mode, and therefore doesn't include any metadata for each dataset.\n",
    "\n",
    "The dataframes drop genes/proteins/metabolites that contain one or more NaN.\n",
    "\n",
    "On the proteomics, since we're interested in the protein-coding genes rather than the proteins themselves, the proteins without a gene name association are dropped in the code below."
   ]
  },
  {
   "cell_type": "code",
   "execution_count": 19,
   "metadata": {},
   "outputs": [],
   "source": [
    "# Define the file paths\n",
    "rna_file_path = '../Data/CCFData/Exercise Proteomics, Metabolomics and RNAseq/3. Exercise Tissue RNAseq/EXERCISE MICE RNA SEQ TISSUE Normalized count.csv'\n",
    "prottissue_file_path = '../Data/CCFData/Exercise Proteomics, Metabolomics and RNAseq/2. Exercise Tissue Proteomics/Exercise Mice RAW MUSCLE PROTOEMICS .xlsx'\n",
    "protserum_file_path = '../Data/CCFData/Exercise Proteomics, Metabolomics and RNAseq/1. Exercise Serum Proteomics/Exercise Mice Serum Proteomics RAW DATA.xlsx'\n",
    "\n",
    "# Read the Excel file and set the first column as the index\n",
    "df_rna = pd.read_csv(rna_file_path, index_col=0)\n",
    "df_prottissue = pd.read_excel(prottissue_file_path, engine='openpyxl', index_col=2, skiprows=1)\n",
    "df_protserum = pd.read_excel(protserum_file_path, sheet_name = 'All data', engine='openpyxl', index_col=2, header=3)\n",
    "\n",
    "# Replacing gene Ensembl IDs for their names, contained in one of the Differential Expression files\n",
    "gene_annotation_file_path = \"../Data/CCFData/Exercise Proteomics, Metabolomics and RNAseq/3. Exercise Tissue RNAseq/NoExAm_vs_NoExPBS_DEResults_wNormCounts.csv\"\n",
    "gene_annotation_data = pd.read_csv(gene_annotation_file_path)\n",
    "# Creating and using the Ensembl ID to gene name dictionary\n",
    "ensembl_to_gene_name_dict = pd.Series(gene_annotation_data.external_gene_name.values, index=gene_annotation_data.Ensembl_ID).to_dict()\n",
    "df_rna.rename(index=ensembl_to_gene_name_dict, inplace=True)\n",
    "\n",
    "# Renaming proteomics tissue columns\n",
    "df_prottissue = df_prottissue.drop(df_prottissue.columns[range(3)], axis=1)\n",
    "df_prottissue.columns =  ([\"NE PBS \" + str(i) for i in range(1, 9)] + [\"NE AmAc \" + str(i) for i in range(1, 9)] + [\"E PBS \" + str(i) for i in range(1, 9)] + [\"E AmAc \" + str(i) for i in range(1, 9)])\n",
    "\n",
    "# Dropping NaNs and empty indexed proteins, by removing duplicated indexes (in this case, null strings)\n",
    "df_protserum = df_protserum.dropna()\n",
    "df_protserum = df_protserum[~df_protserum.index.duplicated(keep=False)]\n",
    "df_protserum = df_protserum.drop(df_protserum.columns[range(36, 68)], axis=1)\n",
    "df_protserum = df_protserum.drop(df_protserum.columns[range(4)], axis=1)"
   ]
  },
  {
   "cell_type": "markdown",
   "metadata": {},
   "source": [
    "# NE PBS vs. NE AmAc\n",
    "Here we're setting labels with the following assignment:\n",
    "- 0 for NE PBS\n",
    "- 1 for NE AmAc\n",
    "- 2 for E PBS\n",
    "- 3 for E AmAc\n",
    "\n",
    "This notebook performs a multimodal analysis on only the NE PBS and NE AmAc groups, treating it as a binary classification problem, hence the dataframes use the labels and subsequent masks to filter only these two groups.\n",
    "\n",
    "RNA has its own ordering due to a missing sample (E PBS 6, deemed outlier)"
   ]
  },
  {
   "cell_type": "code",
   "execution_count": 20,
   "metadata": {},
   "outputs": [],
   "source": [
    "# Since RNA data is missing E PBS 6, it has its own classes\n",
    "classes_rna = []\n",
    "for col in df_rna.columns:\n",
    "    if col.startswith('NE PBS'):\n",
    "        classes_rna.append(0)\n",
    "    elif col.startswith('NE AmAc'):\n",
    "        classes_rna.append(1)\n",
    "    elif col.startswith('E PBS'):\n",
    "        classes_rna.append(2)\n",
    "    elif col.startswith('E AmAc'):\n",
    "        classes_rna.append(3)\n",
    "\n",
    "# Create classes arrays for proteomics data (NE PBS, NE Am, E PBS, E AmAc)\n",
    "classes_prot = []\n",
    "for col in df_prottissue.columns:\n",
    "    if col.startswith('NE PBS'):\n",
    "        classes_prot.append(0)\n",
    "    elif col.startswith('NE AmAc'):\n",
    "        classes_prot.append(1)\n",
    "    elif col.startswith('E PBS'):\n",
    "        classes_prot.append(2)\n",
    "    elif col.startswith('E AmAc'):\n",
    "        classes_prot.append(3)"
   ]
  },
  {
   "cell_type": "markdown",
   "metadata": {},
   "source": [
    "# Group selection: NE PBS vs NE AmAc"
   ]
  },
  {
   "cell_type": "code",
   "execution_count": 21,
   "metadata": {},
   "outputs": [],
   "source": [
    "# Each modalitiy has a different ordering, we use different masks for each modality\n",
    "mask_rna = pd.Series(classes_rna, index=df_rna.columns).isin([0, 1])\n",
    "mask_prot = pd.Series(classes_prot, index=df_prottissue.columns).isin([0, 1])"
   ]
  },
  {
   "cell_type": "code",
   "execution_count": 22,
   "metadata": {},
   "outputs": [],
   "source": [
    "# Create the labels for our bivariate classification models dataframe\n",
    "labels_rna = pd.DataFrame(index=df_rna.columns)\n",
    "labels_rna['Label'] = df_rna.columns.map(lambda x: 0 if x.startswith('NE PBS') else (1 if x.startswith('NE AmAc') else None))\n",
    "labels_rna.dropna(inplace=True)\n",
    "labels_rna = labels_rna.values.ravel()\n",
    "\n",
    "labels_prot = pd.DataFrame(index=df_prottissue.columns)\n",
    "labels_prot['Label'] = df_prottissue.columns.map(lambda x: 0 if x.startswith('NE PBS') else (1 if x.startswith('NE AmAc') else None))\n",
    "labels_prot.dropna(inplace=True)\n",
    "labels_prot = labels_prot.values.ravel()"
   ]
  },
  {
   "cell_type": "code",
   "execution_count": 23,
   "metadata": {},
   "outputs": [],
   "source": [
    "# This drops all the other classes\n",
    "df_rna = df_rna.loc[:,mask_rna.values]\n",
    "df_prottissue = df_prottissue.loc[:,mask_prot.values]\n",
    "df_protserum = df_protserum.loc[:,mask_prot.values]"
   ]
  },
  {
   "cell_type": "code",
   "execution_count": 24,
   "metadata": {},
   "outputs": [],
   "source": [
    "# For transcriptomics, we filter rows where 70% of the values are above 10, transpose, and normalize using z-score\n",
    "df_rna_normalized = df_rna[df_rna.gt(10).mean(axis=1) > 0.7].T.apply(zscore, axis=0)\n",
    "\n",
    "# For proteomics and metabolomics, we only transpose, and normalize using z-score\n",
    "df_prottissue_normalized = df_prottissue.T.apply(zscore, axis=0)\n",
    "df_protserum_normalized = df_protserum.T.apply(zscore, axis=0)"
   ]
  },
  {
   "cell_type": "markdown",
   "metadata": {},
   "source": [
    "# Relief parameters"
   ]
  },
  {
   "cell_type": "code",
   "execution_count": 25,
   "metadata": {},
   "outputs": [],
   "source": [
    "N_reliefF = 100\n",
    "K = 3"
   ]
  },
  {
   "cell_type": "code",
   "execution_count": 26,
   "metadata": {},
   "outputs": [],
   "source": [
    "# Select features that separate both classes on transcriptomics\n",
    "fs = ReliefF(n_neighbors = K, n_features_to_select = N_reliefF, n_jobs = -1, )\n",
    "fs.fit(df_rna_normalized.values, labels_rna)\n",
    "df_rna_relief = df_rna_normalized.iloc[:,fs.top_features_[:N_reliefF]]\n",
    "\n",
    "# Select features that separate both classes on proteomics tissue\n",
    "fs = ReliefF(n_neighbors = K, n_features_to_select = N_reliefF, n_jobs = -1, )\n",
    "fs.fit(df_prottissue_normalized.values, labels_prot)\n",
    "df_prottissue_relief = df_prottissue_normalized.iloc[:,fs.top_features_[:N_reliefF]]\n",
    "\n",
    "# Select features that separate both classes on proteomics serum\n",
    "fs = ReliefF(n_neighbors = K, n_features_to_select = N_reliefF, n_jobs = -1, )\n",
    "fs.fit(df_protserum_normalized.values, labels_prot)\n",
    "df_protserum_relief = df_protserum_normalized.iloc[:,fs.top_features_[:N_reliefF]]"
   ]
  },
  {
   "cell_type": "code",
   "execution_count": 27,
   "metadata": {},
   "outputs": [],
   "source": [
    "genes_relief_rna = df_rna_relief.columns\n",
    "genepairs_relief_rna = pd.DataFrame(combinations(genes_relief_rna, 2), columns=['Gene 1','Gene 2'])\n",
    "\n",
    "genes_relief_prottissue = df_prottissue_relief.columns\n",
    "genepairs_relief_prottissue = pd.DataFrame(combinations(genes_relief_prottissue, 2), columns=['Gene 1','Gene 2'])\n",
    "\n",
    "genes_relief_protserum = df_protserum_relief.columns\n",
    "genepairs_relief_protserum = pd.DataFrame(combinations(genes_relief_protserum, 2), columns=['Gene 1','Gene 2'])"
   ]
  },
  {
   "cell_type": "code",
   "execution_count": 28,
   "metadata": {},
   "outputs": [],
   "source": [
    "# MODIFY HERE FOR DESIRED GROUP SELECTION\n",
    "output_path = '../Output/NEPBSvsNEAmAc/'\n",
    "if not os.path.exists(output_path):\n",
    "   os.makedirs(output_path)"
   ]
  },
  {
   "cell_type": "code",
   "execution_count": 29,
   "metadata": {},
   "outputs": [
    {
     "name": "stderr",
     "output_type": "stream",
     "text": [
      "100%|██████████| 4950/4950 [00:53<00:00, 92.73it/s]\n"
     ]
    }
   ],
   "source": [
    "# Performance of RNA gene pairs\n",
    "scores_cv = []\n",
    "scores_training = []\n",
    "for pair in tqdm(genepairs_relief_rna.values.tolist()):\n",
    "    df_to_train = df_rna_relief[pair]\n",
    "\n",
    "    clf = SVC(kernel='linear', C=100)\n",
    "    clf.fit(df_to_train.values, labels_rna)\n",
    "\n",
    "    cv_score = cross_val_score(clf, df_to_train.values, labels_rna, cv=5)\n",
    "\n",
    "    scores_cv.append(cv_score.mean())\n",
    "    scores_training.append(clf.score(df_to_train.values, labels_rna))\n",
    "\n",
    "scores = pd.DataFrame(list(zip(genepairs_relief_rna['Gene 1'].values, genepairs_relief_rna['Gene 2'].values, scores_cv, scores_training)), columns=['Gene 1','Gene 2','cv','train'])\n",
    "scores.to_csv(output_path + 'bivariate_scores_RNA.csv', index=False)"
   ]
  },
  {
   "cell_type": "code",
   "execution_count": 30,
   "metadata": {},
   "outputs": [
    {
     "name": "stderr",
     "output_type": "stream",
     "text": [
      "100%|██████████| 4950/4950 [00:46<00:00, 106.22it/s]\n",
      "100%|██████████| 4950/4950 [00:47<00:00, 104.02it/s]\n"
     ]
    }
   ],
   "source": [
    "# Performance of proteomics tissue gene pairs\n",
    "scores_cv = []\n",
    "scores_training = []\n",
    "for pair in tqdm(genepairs_relief_prottissue.values.tolist()):\n",
    "    df_to_train = df_prottissue_relief[pair]\n",
    "\n",
    "    clf = SVC(kernel='linear', C=100)\n",
    "    clf.fit(df_to_train.values, labels_prot)\n",
    "\n",
    "    cv_score = cross_val_score(clf, df_to_train.values, labels_prot, cv=4)\n",
    "\n",
    "    scores_cv.append(cv_score.mean())\n",
    "    scores_training.append(clf.score(df_to_train.values, labels_prot))\n",
    "\n",
    "scores = pd.DataFrame(list(zip(genepairs_relief_prottissue['Gene 1'].values, genepairs_relief_prottissue['Gene 2'].values, scores_cv, scores_training)), columns=['Gene 1','Gene 2','cv','train'])\n",
    "scores.to_csv(output_path + 'bivariate_scores_PROTTISSUE.csv', index=False)\n",
    "\n",
    "\n",
    "# Performance of proteomics serum gene pairs\n",
    "scores_cv = []\n",
    "scores_training = []\n",
    "for pair in tqdm(genepairs_relief_protserum.values.tolist()):\n",
    "    df_to_train = df_protserum_relief[pair]\n",
    "\n",
    "    clf = SVC(kernel='linear', C=100)\n",
    "    clf.fit(df_to_train.values, labels_prot)\n",
    "\n",
    "    cv_score = cross_val_score(clf, df_to_train.values, labels_prot, cv=4)\n",
    "\n",
    "    scores_cv.append(cv_score.mean())\n",
    "    scores_training.append(clf.score(df_to_train.values, labels_prot))\n",
    "\n",
    "scores = pd.DataFrame(list(zip(genepairs_relief_protserum['Gene 1'].values, genepairs_relief_protserum['Gene 2'].values, scores_cv, scores_training)), columns=['Gene 1','Gene 2','cv','train'])\n",
    "scores.to_csv(output_path + 'bivariate_scores_PROTSERUM.csv', index=False)"
   ]
  },
  {
   "cell_type": "code",
   "execution_count": 31,
   "metadata": {},
   "outputs": [],
   "source": [
    "def plot_pair_SVM(pair, df, labels, path=None, show=False):\n",
    "    df_to_plot = df[pair]\n",
    "    # Plot using matplotlib.pyplot\n",
    "    plt.figure()\n",
    "    x = df_to_plot[pair[0]].values\n",
    "    y = df_to_plot[pair[1]].values\n",
    "    plt.plot(x[labels ==0], y[labels ==0], 'bo', label = 'NE PBS')\n",
    "    plt.plot(x[labels ==1], y[labels ==1], 'r^', label = 'NE AmAc')\n",
    "    # Train the classifier\n",
    "    clf = SVC(kernel='linear', C=100, probability=True)\n",
    "    clf.fit(df_to_plot.values, labels.ravel())\n",
    "    # Create a mesh to plot in\n",
    "    x_min, x_max = x.min() - 1, x.max() + 1\n",
    "    y_min, y_max = y.min() - 1, y.max() + 1\n",
    "    n_points = 1000\n",
    "    xx, yy = np.meshgrid(np.linspace(x_min, x_max, n_points),\n",
    "                            np.linspace(y_min, y_max, n_points))\n",
    "    plt.subplot(1, 1, 1)\n",
    "    Z = clf.predict(np.c_[xx.ravel(), yy.ravel()])\n",
    "    Z = Z.reshape(xx.shape)\n",
    "    plt.contourf(xx, yy, Z, cmap=plt.cm.coolwarm, alpha=0.3)\n",
    "    plt.xlabel(pair[0])\n",
    "    plt.ylabel(pair[1])\n",
    "    # Compute score \n",
    "    scores = clf.score(df_to_plot.values, labels.ravel())\n",
    "    # Title has the two genes and the score\n",
    "    plt.title(' vs '.join(pair) + ' - score: ' + str(round(scores.mean(), 2)))\n",
    "    plt.legend(loc = 'best', fontsize = 10)\n",
    "    plt.ioff()\n",
    "    if path: \n",
    "        # REMEMBER THAT None == False. If path is None, the figure is not saved.\n",
    "        # plt.savefig(path, dpi =300, bbox_inches='tight', format='png', transparent = False)\n",
    "        plt.savefig(path, dpi =300, format='png', transparent = False)\n",
    "    return None"
   ]
  },
  {
   "cell_type": "code",
   "execution_count": 32,
   "metadata": {},
   "outputs": [],
   "source": [
    "N_figures = 200\n",
    "pairs_to_plot_RNA = pd.read_csv(output_path + 'bivariate_scores_RNA.csv').sort_values(by='cv', ascending=False).head(N_figures).drop(['cv','train'], axis=1)\n",
    "pairs_to_plot_PROTTISSUE = pd.read_csv(output_path + 'bivariate_scores_PROTTISSUE.csv').sort_values(by='cv', ascending=False).head(N_figures).drop(['cv','train'], axis=1)\n",
    "pairs_to_plot_PROTSERUM = pd.read_csv(output_path + 'bivariate_scores_PROTSERUM.csv').sort_values(by='cv', ascending=False).head(N_figures).drop(['cv','train'], axis=1)"
   ]
  },
  {
   "cell_type": "code",
   "execution_count": 33,
   "metadata": {},
   "outputs": [],
   "source": [
    "# MODIFY PATH HERE FOR DESIRED GROUP SELECTION\n",
    "figures_path = '../figures/NEPBSvsNEAmAc/'\n",
    "if not os.path.exists(figures_path):\n",
    "   os.makedirs(figures_path)"
   ]
  },
  {
   "cell_type": "code",
   "execution_count": 34,
   "metadata": {},
   "outputs": [
    {
     "name": "stderr",
     "output_type": "stream",
     "text": [
      " 10%|█         | 20/200 [00:20<03:07,  1.04s/it]C:\\Users\\fetsuruk\\AppData\\Local\\Temp\\ipykernel_26484\\2191759271.py:4: RuntimeWarning: More than 20 figures have been opened. Figures created through the pyplot interface (`matplotlib.pyplot.figure`) are retained until explicitly closed and may consume too much memory. (To control this warning, see the rcParam `figure.max_open_warning`). Consider using `matplotlib.pyplot.close()`.\n",
      "  plt.figure()\n",
      "100%|██████████| 200/200 [03:40<00:00,  1.10s/it]\n",
      "100%|██████████| 200/200 [04:09<00:00,  1.25s/it]\n",
      "100%|██████████| 200/200 [09:42<00:00,  2.91s/it]\n"
     ]
    }
   ],
   "source": [
    "if not os.path.exists(figures_path +'RNA'):\n",
    "   os.makedirs(figures_path + 'RNA')\n",
    "if not os.path.exists(figures_path +'PROTTISSUE'):\n",
    "   os.makedirs(figures_path + 'PROTTISSUE')\n",
    "if not os.path.exists(figures_path +'PROTSERUM'):\n",
    "   os.makedirs(figures_path + 'PROTSERUM')\n",
    "\n",
    "\n",
    "for i, pair in enumerate( tqdm(pairs_to_plot_RNA.values.tolist()) ):\n",
    "   plot_pair_SVM(pair, df_rna.T, labels_rna, path = figures_path + 'RNA/' + str(i+1) + '_' + pair[0] + '_' + pair[1] + '.png', show=False)\n",
    "\n",
    "for i, pair in enumerate( tqdm(pairs_to_plot_PROTTISSUE.values.tolist()) ):\n",
    "   plot_pair_SVM(pair, df_prottissue.T, labels_prot, path = figures_path + 'PROTTISSUE/' + str(i+1) + '_' + pair[0] + '_' + pair[1] + '.png', show=False)\n",
    "\n",
    "for i, pair in enumerate( tqdm(pairs_to_plot_PROTSERUM.values.tolist()) ):\n",
    "   plot_pair_SVM(pair, df_protserum.T, labels_prot, path = figures_path + 'PROTSERUM/' + str(i+1) + '_' + pair[0] + '_' + pair[1] + '.png', show=False)"
   ]
  }
 ],
 "metadata": {
  "kernelspec": {
   "display_name": "AD",
   "language": "python",
   "name": "python3"
  },
  "language_info": {
   "codemirror_mode": {
    "name": "ipython",
    "version": 3
   },
   "file_extension": ".py",
   "mimetype": "text/x-python",
   "name": "python",
   "nbconvert_exporter": "python",
   "pygments_lexer": "ipython3",
   "version": "3.11.4"
  }
 },
 "nbformat": 4,
 "nbformat_minor": 2
}
