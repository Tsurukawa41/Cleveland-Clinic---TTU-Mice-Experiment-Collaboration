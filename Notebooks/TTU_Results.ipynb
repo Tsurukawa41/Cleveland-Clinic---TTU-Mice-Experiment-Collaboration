{
 "cells": [
  {
   "cell_type": "code",
   "execution_count": 18,
   "metadata": {},
   "outputs": [],
   "source": [
    "import os\n",
    "import matplotlib.pyplot as plt\n",
    "import numpy as np\n",
    "import pandas as pd\n",
    "import seaborn as sns\n",
    "\n",
    "from tqdm import tqdm\n",
    "from sklearn import svm\n",
    "from sklearn.svm import SVC\n",
    "from skrebate import ReliefF\n",
    "from scipy.stats import zscore\n",
    "from sklearn.model_selection import cross_val_score\n",
    "from sklearn.metrics import accuracy_score\n",
    "from itertools import combinations\n",
    "\n",
    "sns.set_theme(style='white', font_scale=1.8)\n",
    "\n",
    "plt.rcParams['figure.figsize'] = (5, 5)\n",
    "plt.rcParams['figure.dpi'] = 300\n",
    "plt.rcParams['font.family'] = 'Times New Roman'\n",
    "plt.rcParams['font.size'] = 12\n",
    "plt.rcParams['figure.facecolor'] = 'white'\n",
    "plt.rcParams['figure.autolayout'] = True"
   ]
  },
  {
   "cell_type": "code",
   "execution_count": 28,
   "metadata": {},
   "outputs": [],
   "source": [
    "# MODIFY HERE FOR DESIRED GROUP SELECTION\n",
    "output_paths = ['../Output/NEPBSvsEPBS/',\n",
    "               '../Output/NEAmAcvsEAmAc/',\n",
    "               '../Output/NEPBSvsNEAmAc/',\n",
    "               '../Output/EPBSvsEAmAc/']\n",
    "\n",
    "file_paths = ['bivariate_scores_RNA.csv',\n",
    "              'bivariate_scores_PROTTISSUE.csv',\n",
    "              'bivariate_scores_PROTSERUM.csv']\n",
    "\n",
    "scores.to_csv(output_path + 'bivariate_scores_RNA.csv', index=False)"
   ]
  },
  {
   "cell_type": "code",
   "execution_count": 32,
   "metadata": {},
   "outputs": [],
   "source": [
    "N_figures = 200\n",
    "pairs_to_plot_RNA = pd.read_csv(output_path + 'bivariate_scores_RNA.csv').sort_values(by='cv', ascending=False).head(N_figures).drop(['cv','train'], axis=1)\n",
    "pairs_to_plot_PROTTISSUE = pd.read_csv(output_path + 'bivariate_scores_PROTTISSUE.csv').sort_values(by='cv', ascending=False).head(N_figures).drop(['cv','train'], axis=1)\n",
    "pairs_to_plot_PROTSERUM = pd.read_csv(output_path + 'bivariate_scores_PROTSERUM.csv').sort_values(by='cv', ascending=False).head(N_figures).drop(['cv','train'], axis=1)"
   ]
  },
  {
   "cell_type": "code",
   "execution_count": 33,
   "metadata": {},
   "outputs": [],
   "source": [
    "# MODIFY PATH HERE FOR DESIRED GROUP SELECTION\n",
    "figures_path = '../figures/NEPBSvsNEAmAc/'\n",
    "if not os.path.exists(figures_path):\n",
    "   os.makedirs(figures_path)"
   ]
  },
  {
   "cell_type": "code",
   "execution_count": 34,
   "metadata": {},
   "outputs": [
    {
     "name": "stderr",
     "output_type": "stream",
     "text": [
      " 10%|█         | 20/200 [00:20<03:07,  1.04s/it]C:\\Users\\fetsuruk\\AppData\\Local\\Temp\\ipykernel_26484\\2191759271.py:4: RuntimeWarning: More than 20 figures have been opened. Figures created through the pyplot interface (`matplotlib.pyplot.figure`) are retained until explicitly closed and may consume too much memory. (To control this warning, see the rcParam `figure.max_open_warning`). Consider using `matplotlib.pyplot.close()`.\n",
      "  plt.figure()\n",
      "100%|██████████| 200/200 [03:40<00:00,  1.10s/it]\n",
      "100%|██████████| 200/200 [04:09<00:00,  1.25s/it]\n",
      "100%|██████████| 200/200 [09:42<00:00,  2.91s/it]\n"
     ]
    }
   ],
   "source": [
    "if not os.path.exists(figures_path +'RNA'):\n",
    "   os.makedirs(figures_path + 'RNA')\n",
    "if not os.path.exists(figures_path +'PROTTISSUE'):\n",
    "   os.makedirs(figures_path + 'PROTTISSUE')\n",
    "if not os.path.exists(figures_path +'PROTSERUM'):\n",
    "   os.makedirs(figures_path + 'PROTSERUM')\n",
    "\n",
    "\n",
    "for i, pair in enumerate( tqdm(pairs_to_plot_RNA.values.tolist()) ):\n",
    "   plot_pair_SVM(pair, df_rna.T, labels_rna, path = figures_path + 'RNA/' + str(i+1) + '_' + pair[0] + '_' + pair[1] + '.png', show=False)\n",
    "\n",
    "for i, pair in enumerate( tqdm(pairs_to_plot_PROTTISSUE.values.tolist()) ):\n",
    "   plot_pair_SVM(pair, df_prottissue.T, labels_prot, path = figures_path + 'PROTTISSUE/' + str(i+1) + '_' + pair[0] + '_' + pair[1] + '.png', show=False)\n",
    "\n",
    "for i, pair in enumerate( tqdm(pairs_to_plot_PROTSERUM.values.tolist()) ):\n",
    "   plot_pair_SVM(pair, df_protserum.T, labels_prot, path = figures_path + 'PROTSERUM/' + str(i+1) + '_' + pair[0] + '_' + pair[1] + '.png', show=False)"
   ]
  }
 ],
 "metadata": {
  "kernelspec": {
   "display_name": "AD",
   "language": "python",
   "name": "python3"
  },
  "language_info": {
   "codemirror_mode": {
    "name": "ipython",
    "version": 3
   },
   "file_extension": ".py",
   "mimetype": "text/x-python",
   "name": "python",
   "nbconvert_exporter": "python",
   "pygments_lexer": "ipython3",
   "version": "3.11.4"
  }
 },
 "nbformat": 4,
 "nbformat_minor": 2
}
